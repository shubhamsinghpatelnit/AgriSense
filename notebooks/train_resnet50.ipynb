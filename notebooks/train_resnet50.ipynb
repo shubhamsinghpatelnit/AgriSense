{
 "cells": [
  {
   "cell_type": "markdown",
   "metadata": {},
   "source": [
    "# Crop Disease Detection - ResNet50 Training\n",
    "\n",
    "This notebook implements the training pipeline for crop disease detection using ResNet50 transfer learning."
   ]
  },
  {
   "cell_type": "code",
   "execution_count": null,
   "metadata": {},
   "outputs": [],
   "source": [
    "# Import required libraries\n",
    "import sys\n",
    "sys.path.append('../src')\n",
    "\n",
    "import torch\n",
    "import torch.nn as nn\n",
    "import torch.optim as optim\n",
    "from torch.utils.data import DataLoader\n",
    "import matplotlib.pyplot as plt\n",
    "import numpy as np\n",
    "\n",
    "from dataset import create_data_loaders\n",
    "from model import create_model, get_model_summary\n",
    "from train import Trainer\n",
    "\n",
    "print(\"Libraries imported successfully!\")"
   ]
  },
  {
   "cell_type": "code",
   "execution_count": null,
   "metadata": {},
   "outputs": [],
   "source": [
    "# Configuration\n",
    "config = {\n",
    "    'data_dir': '../data',\n",
    "    'batch_size': 8,  # Small batch size for demo\n",
    "    'num_epochs': 5,  # Reduced for quick training\n",
    "    'learning_rate': 1e-4,\n",
    "    'device': torch.device('cuda' if torch.cuda.is_available() else 'cpu')\n",
    "}\n",
    "\n",
    "print(f\"Using device: {config['device']}\")\n",
    "print(f\"Configuration: {config}\")"
   ]
  },
  {
   "cell_type": "code",
   "execution_count": null,
   "metadata": {},
   "outputs": [],
   "source": [
    "# Load dataset\n",
    "print(\"Loading dataset...\")\n",
    "train_loader, val_loader, test_loader, class_names = create_data_loaders(\n",
    "    data_dir=config['data_dir'],\n",
    "    batch_size=config['batch_size'],\n",
    "    num_workers=0\n",
    ")\n",
    "\n",
    "print(f\"Dataset loaded successfully!\")\n",
    "print(f\"Number of classes: {len(class_names)}\")\n",
    "print(f\"Classes: {class_names}\")\n",
    "print(f\"Training samples: {len(train_loader.dataset)}\")\n",
    "print(f\"Validation samples: {len(val_loader.dataset)}\")\n",
    "print(f\"Test samples: {len(test_loader.dataset)}\")"
   ]
  },
  {
   "cell_type": "code",
   "execution_count": null,
   "metadata": {},
   "outputs": [],
   "source": [
    "# Create model\n",
    "print(\"Creating ResNet50 model...\")\n",
    "model = create_model(num_classes=len(class_names), device=config['device'])\n",
    "get_model_summary(model)\n",
    "\n",
    "# Test forward pass\n",
    "dummy_input = torch.randn(1, 3, 224, 224).to(config['device'])\n",
    "output = model(dummy_input)\n",
    "print(f\"\\nModel test - Input: {dummy_input.shape}, Output: {output.shape}\")"
   ]
  },
  {
   "cell_type": "code",
   "execution_count": null,
   "metadata": {},
   "outputs": [],
   "source": [
    "# Initialize trainer\n",
    "trainer = Trainer(model, train_loader, val_loader, class_names, config['device'])\n",
    "\n",
    "print(\"Trainer initialized successfully!\")\n",
    "print(\"Ready to start training...\")"
   ]
  },
  {
   "cell_type": "code",
   "execution_count": null,
   "metadata": {},
   "outputs": [],
   "source": [
    "# Start training\n",
    "print(\"Starting training process...\")\n",
    "\n",
    "trained_model, history = trainer.train(\n",
    "    num_epochs=config['num_epochs'],\n",
    "    learning_rate=config['learning_rate'],\n",
    "    checkpoint_path='../models/crop_disease_resnet50.pth',\n",
    "    fine_tune_epoch=3  # Start fine-tuning earlier for demo\n",
    ")\n",
    "\n",
    "print(\"\\nTraining completed!\")"
   ]
  },
  {
   "cell_type": "code",
   "execution_count": null,
   "metadata": {},
   "outputs": [],
   "source": [
    "# Plot training results\n",
    "trainer.plot_training_curves('../outputs/training_curves.png')\n",
    "\n",
    "# Display training history\n",
    "print(\"Training History:\")\n",
    "for epoch in range(len(history['train_loss'])):\n",
    "    print(f\"Epoch {epoch+1}: Train Loss: {history['train_loss'][epoch]:.4f}, \"\n",
    "          f\"Train Acc: {history['train_acc'][epoch]:.4f}, \"\n",
    "          f\"Val Loss: {history['val_loss'][epoch]:.4f}, \"\n",
    "          f\"Val Acc: {history['val_acc'][epoch]:.4f}\")"
   ]
  },
  {
   "cell_type": "code",
   "execution_count": null,
   "metadata": {},
   "outputs": [],
   "source": [
    "# Evaluate model\n",
    "from evaluate import evaluate_model\n",
    "\n",
    "print(\"Evaluating trained model...\")\n",
    "results = evaluate_model(\n",
    "    checkpoint_path='../models/crop_disease_resnet50.pth',\n",
    "    data_dir='../data',\n",
    "    batch_size=config['batch_size']\n",
    ")\n",
    "\n",
    "print(\"\\nModel evaluation completed!\")\n",
    "print(f\"Final test accuracy: {results['metrics']['accuracy']:.4f}\")"
   ]
  },
  {
   "cell_type": "markdown",
   "metadata": {},
   "source": [
    "## Training Complete!\n",
    "\n",
    "The ResNet50 model has been successfully trained for crop disease detection. The model checkpoint has been saved to `../models/crop_disease_resnet50.pth`.\n",
    "\n",
    "### Next Steps:\n",
    "1. Implement knowledge base (Step 5)\n",
    "2. Add Grad-CAM visualization (Step 6)\n",
    "3. Build FastAPI backend (Step 8)\n",
    "\n",
    "### Files Generated:\n",
    "- Model checkpoint: `models/crop_disease_resnet50.pth`\n",
    "- Training curves: `outputs/training_curves.png`\n",
    "- Evaluation results: `outputs/results.json`\n",
    "- Confusion matrix: `outputs/confusion_matrix.png`"
   ]
  }
 ],
 "metadata": {
  "kernelspec": {
   "display_name": "Python 3",
   "language": "python",
   "name": "python3"
  },
  "language_info": {
   "codemirror_mode": {
    "name": "ipython",
    "version": 3
   },
   "file_extension": ".py",
   "mimetype": "text/x-python",
   "name": "python",
   "nbconvert_exporter": "python",
   "pygments_lexer": "ipython3",
   "version": "3.8.0"
  }
 },
 "nbformat": 4,
 "nbformat_minor": 4
}
